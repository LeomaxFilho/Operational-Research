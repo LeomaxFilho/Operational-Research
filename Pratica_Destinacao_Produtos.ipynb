{
  "cells": [
    {
      "cell_type": "markdown",
      "metadata": {
        "id": "view-in-github",
        "colab_type": "text"
      },
      "source": [
        "<a href=\"https://colab.research.google.com/github/LeomaxFilho/Operational-Research/blob/main/Pratica_Destinacao_Produtos.ipynb\" target=\"_parent\"><img src=\"https://colab.research.google.com/assets/colab-badge.svg\" alt=\"Open In Colab\"/></a>"
      ]
    },
    {
      "cell_type": "markdown",
      "metadata": {
        "id": "qDPM4byI4rXz"
      },
      "source": [
        "# Aula prática: Destinação de Produtos à Fabricas\n",
        "<sup>Exemplo do capítulo 8.3 do livro `Introdução à Pesquisa Operacional` de `Hillier e Lieberman`.</sup>"
      ]
    },
    {
      "cell_type": "markdown",
      "metadata": {
        "id": "17Ur_xiu43Om"
      },
      "source": [
        "## Exercício 1"
      ]
    },
    {
      "cell_type": "markdown",
      "metadata": {
        "id": "S_ECUHr85U0V"
      },
      "source": [
        "### Descrição do problema\n",
        "A Cia. Produtos Melhores decidiu iniciar a produção de quatro produtos novos usando três fábricas que, no momento, têm excesso de capacidade produtiva. Os produtos requerem um esforço de produção comparável por unidade, de modo que a capacidade produtiva disponível das fábricas seja medida pelo número de unidades de qualquer produto que possa ser produzido diariamente, conforme dado na tabela 1. A tabela 2 fornece a taxa de produção diária necessária para atender às vendas projetadas. Cada fábrica é capaz de produzir qualquer um desses produtos, exceto a Fábrica 2, que não pode fabricar o produto 3. Os custos variáveis por unidade de cada produto diferem de fábrica para fábrica, conforme a tabela 3.\n",
        "\n",
        "Tabela 1: Capacidade de produção disponível, por unidade do produto\n",
        "\n",
        "| | Fábrica 1 | Fábrica 2 | Fábrica 3 |\n",
        "|:---|:---:|:---:|:---:|\n",
        "| Capacidade disponível | 75 | 75 | 45 |\n",
        "\n",
        "Tabela 2: Demanda de produção diária\n",
        "\n",
        "| | Produto 1 | Produto 2 | Produto 3 | Produto 4 |\n",
        "|:---|:---:|:---:|:---:|:---:|\n",
        "| Demanda | 20 | 30 | 30 | 40 |\n",
        "\n",
        "Tabela 3: Custo unitário por produto\n",
        "\n",
        "| | Produto 1 | Produto 2 | Produto 3 | Produto 4 |\n",
        "|:---|:---:|:---:|:---:|:---:|\n",
        "| Fábrica 1 | 41 | 27 | 28 | 24 |\n",
        "| Fábrica 2 | 40 | 29 | - | 23 |\n",
        "| Fábrica 3 | 37 | 30 | 27 | 21 |\n",
        "\n",
        "A gerência precisa tomar uma decisão sobre como dividir a fabricação dos produtos entre as fábricas, e decidiu permitir a divisão da produção de um mesmo produto em mais de uma fábrica.\n",
        "\n",
        "Escreva um modelo para determinar quais fábricas produzirão quais produtos e a que custo total."
      ]
    },
    {
      "cell_type": "markdown",
      "metadata": {
        "id": "r0sGHJD97MIz"
      },
      "source": [
        "### Resolução"
      ]
    },
    {
      "cell_type": "code",
      "execution_count": null,
      "metadata": {
        "id": "Fm0Dc8uR7Qsz",
        "outputId": "1dbe74fd-d823-483c-85f0-b624e3c82bc0"
      },
      "outputs": [
        {
          "name": "stdout",
          "output_type": "stream",
          "text": [
            "Requirement already satisfied: mip in /home/raquel/.local/lib/python3.8/site-packages (1.14.1)\n",
            "Requirement already satisfied: cffi==1.15.0 in /home/raquel/.local/lib/python3.8/site-packages (from mip) (1.15.0)\n",
            "Requirement already satisfied: pycparser in /home/raquel/.local/lib/python3.8/site-packages (from cffi==1.15.0->mip) (2.21)\n"
          ]
        }
      ],
      "source": [
        "# instalação e importação do pacote mip\n",
        "!pip install mip\n",
        "from mip import *\n",
        "\n",
        "# funcões usadas posteriormente:\n",
        "\n",
        "# resolve o modelo e mostra os valores das variáveis\n",
        "def solve(model):\n",
        "  status = model.optimize()\n",
        "\n",
        "  print(\"Status = \", status)\n",
        "  print(f\"Solution value  = {model.objective_value:.2f}\\n\")\n",
        "\n",
        "  print(\"Solution:\")\n",
        "  for v in model.vars:\n",
        "      print(f\"{v.name} = {v.x:.2f}\")\n",
        "\n",
        "\n",
        "# salva modelo em arquivo lp, e mostra o conteúdo\n",
        "def save(model, filename):\n",
        "  model.write(filename) # salva modelo em arquivo\n",
        "  with open(filename, \"r\") as f: # lê e exibe conteúdo do arquivo\n",
        "    print(f.read())"
      ]
    },
    {
      "cell_type": "code",
      "execution_count": null,
      "metadata": {
        "id": "jP4fukpK7X1h"
      },
      "outputs": [],
      "source": [
        "model = # ... criar modelo\n",
        "save(model, \"model.lp\")"
      ]
    },
    {
      "cell_type": "code",
      "execution_count": null,
      "metadata": {
        "id": "hHo6N8Pw7Zpf"
      },
      "outputs": [],
      "source": [
        "solve(model)"
      ]
    },
    {
      "cell_type": "markdown",
      "metadata": {
        "id": "aMs1wHIugRae"
      },
      "source": [
        "## Exercício 2\n",
        "\n",
        "Refaça o modelo anterior, dessa vez impedindo a divisão de produtos entre fábricas. Ou seja, cada produto deve ser integralmente produzido em uma única fábrica, para eliminar custos ocultos associados à divisão da produção. A cada fábrica deve ser destinado pelo menos um produto."
      ]
    },
    {
      "cell_type": "markdown",
      "metadata": {
        "id": "gKJj1JLUgRag"
      },
      "source": [
        "### Resolução"
      ]
    },
    {
      "cell_type": "code",
      "execution_count": null,
      "metadata": {
        "id": "92okSArZgRah"
      },
      "outputs": [],
      "source": [
        "model = # ... criar modelo\n",
        "\n",
        "save(model, \"model2.lp\")"
      ]
    },
    {
      "cell_type": "code",
      "execution_count": null,
      "metadata": {
        "id": "D0hi2a4UgRai"
      },
      "outputs": [],
      "source": [
        "solve(model)"
      ]
    }
  ],
  "metadata": {
    "colab": {
      "provenance": [],
      "include_colab_link": true
    },
    "kernelspec": {
      "display_name": "Python 3",
      "name": "python3"
    },
    "language_info": {
      "codemirror_mode": {
        "name": "ipython",
        "version": 3
      },
      "file_extension": ".py",
      "mimetype": "text/x-python",
      "name": "python",
      "nbconvert_exporter": "python",
      "pygments_lexer": "ipython3",
      "version": "3.8.10"
    }
  },
  "nbformat": 4,
  "nbformat_minor": 0
}