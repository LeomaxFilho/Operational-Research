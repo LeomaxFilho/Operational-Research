{
  "cells": [
    {
      "cell_type": "markdown",
      "metadata": {
        "id": "view-in-github",
        "colab_type": "text"
      },
      "source": [
        "<a href=\"https://colab.research.google.com/github/LeomaxFilho/Operational-Research/blob/main/Pratica_Destinacao_Produtos.ipynb\" target=\"_parent\"><img src=\"https://colab.research.google.com/assets/colab-badge.svg\" alt=\"Open In Colab\"/></a>"
      ]
    },
    {
      "cell_type": "markdown",
      "metadata": {
        "id": "qDPM4byI4rXz"
      },
      "source": [
        "# Aula prática: Destinação de Produtos à Fabricas\n",
        "<sup>Exemplo do capítulo 8.3 do livro `Introdução à Pesquisa Operacional` de `Hillier e Lieberman`.</sup>"
      ]
    },
    {
      "cell_type": "markdown",
      "metadata": {
        "id": "17Ur_xiu43Om"
      },
      "source": [
        "## Exercício 1"
      ]
    },
    {
      "cell_type": "markdown",
      "metadata": {
        "id": "S_ECUHr85U0V"
      },
      "source": [
        "### Descrição do problema\n",
        "A Cia. Produtos Melhores decidiu iniciar a produção de quatro produtos novos usando três fábricas que, no momento, têm excesso de capacidade produtiva. Os produtos requerem um esforço de produção comparável por unidade, de modo que a capacidade produtiva disponível das fábricas seja medida pelo número de unidades de qualquer produto que possa ser produzido diariamente, conforme dado na tabela 1. A tabela 2 fornece a taxa de produção diária necessária para atender às vendas projetadas. Cada fábrica é capaz de produzir qualquer um desses produtos, exceto a Fábrica 2, que não pode fabricar o produto 3. Os custos variáveis por unidade de cada produto diferem de fábrica para fábrica, conforme a tabela 3.\n",
        "\n",
        "Tabela 1: Capacidade de produção disponível, por unidade do produto\n",
        "\n",
        "| | Fábrica 1 | Fábrica 2 | Fábrica 3 |\n",
        "|:---|:---:|:---:|:---:|\n",
        "| Capacidade disponível | 75 | 75 | 45 |\n",
        "\n",
        "Tabela 2: Demanda de produção diária\n",
        "\n",
        "| | Produto 1 | Produto 2 | Produto 3 | Produto 4 |\n",
        "|:---|:---:|:---:|:---:|:---:|\n",
        "| Demanda | 20 | 30 | 30 | 40 |\n",
        "\n",
        "Tabela 3: Custo unitário por produto\n",
        "\n",
        "| | Produto 1 | Produto 2 | Produto 3 | Produto 4 |\n",
        "|:---|:---:|:---:|:---:|:---:|\n",
        "| Fábrica 1 | 41 | 27 | 28 | 24 |\n",
        "| Fábrica 2 | 40 | 29 | - | 23 |\n",
        "| Fábrica 3 | 37 | 30 | 27 | 21 |\n",
        "\n",
        "A gerência precisa tomar uma decisão sobre como dividir a fabricação dos produtos entre as fábricas, e decidiu permitir a divisão da produção de um mesmo produto em mais de uma fábrica.\n",
        "\n",
        "Escreva um modelo para determinar quais fábricas produzirão quais produtos e a que custo total."
      ]
    },
    {
      "cell_type": "markdown",
      "metadata": {
        "id": "r0sGHJD97MIz"
      },
      "source": [
        "### Resolução"
      ]
    },
    {
      "cell_type": "code",
      "execution_count": 2,
      "metadata": {
        "id": "Fm0Dc8uR7Qsz",
        "outputId": "53e86a60-9456-41e7-fa46-77d1bbc367b7",
        "colab": {
          "base_uri": "https://localhost:8080/"
        }
      },
      "outputs": [
        {
          "output_type": "stream",
          "name": "stdout",
          "text": [
            "Requirement already satisfied: mip in /usr/local/lib/python3.11/dist-packages (1.15.0)\n",
            "Requirement already satisfied: cffi==1.15.* in /usr/local/lib/python3.11/dist-packages (from mip) (1.15.1)\n",
            "Requirement already satisfied: pycparser in /usr/local/lib/python3.11/dist-packages (from cffi==1.15.*->mip) (2.22)\n"
          ]
        }
      ],
      "source": [
        "# instalação e importação do pacote mip\n",
        "!pip install mip\n",
        "from mip import *\n",
        "\n",
        "# funcões usadas posteriormente:\n",
        "\n",
        "# resolve o modelo e mostra os valores das variáveis\n",
        "def solve(model):\n",
        "  status = model.optimize()\n",
        "\n",
        "  print(\"Status = \", status)\n",
        "  print(f\"Solution value  = {model.objective_value:.2f}\\n\")\n",
        "\n",
        "  print(\"Solution:\")\n",
        "  for v in model.vars:\n",
        "      print(f\"{v.name} = {v.x:.2f}\")\n",
        "\n",
        "\n",
        "# salva modelo em arquivo lp, e mostra o conteúdo\n",
        "def save(model, filename):\n",
        "  model.write(filename) # salva modelo em arquivo\n",
        "  with open(filename, \"r\") as f: # lê e exibe conteúdo do arquivo\n",
        "    print(f.read())"
      ]
    },
    {
      "cell_type": "code",
      "source": [
        "F = [75, 75, 45]\n",
        "P = [20, 30, 30, 40]\n",
        "CS = [[41, 27, 28, 24],[40, 29, 0, 23], [37, 30, 27, 21]]"
      ],
      "metadata": {
        "id": "gk2pvgL-dP9R"
      },
      "execution_count": 13,
      "outputs": []
    },
    {
      "cell_type": "code",
      "execution_count": 26,
      "metadata": {
        "id": "jP4fukpK7X1h"
      },
      "outputs": [],
      "source": [
        "model = Model(name='Destinacao de Produtos a Fabricas', sense=MINIMIZE, solver_name=CBC)\n",
        "\n",
        "x = {i: {j: model.add_var(name = f\"x_{i}_{j}\") for j in range(len(P))} for i in range(len(F))}\n",
        "\n",
        "\n",
        "model.objective += xsum(CS[i][j] * x[i][j] for j in range(len(P)) for i in range(len(F)))\n",
        "\n",
        "model += x[1][2] == 0\n",
        "\n",
        "for i in range(len(F)):\n",
        "  model += xsum(x[i][j] for j in range(len(P))) <= F[i]\n",
        "\n",
        "for j in range(len(P)):\n",
        "  model += xsum(x[i][j] for i in range(len(F))) >= P[j]"
      ]
    },
    {
      "cell_type": "code",
      "source": [
        "save(model, \"model.lp\")"
      ],
      "metadata": {
        "id": "J2m3JRWWfuvr",
        "outputId": "6ec47aaa-fcd3-49e6-d06a-16d5dd0cae77",
        "colab": {
          "base_uri": "https://localhost:8080/"
        }
      },
      "execution_count": 27,
      "outputs": [
        {
          "output_type": "stream",
          "name": "stdout",
          "text": [
            "\\Problem name: Destinacao de Produtos a Fabricas\n",
            "\n",
            "Minimize\n",
            "OBJROW: 41 x_0_0 + 27 x_0_1 + 28 x_0_2 + 24 x_0_3 + 40 x_1_0 + 29 x_1_1 + 23 x_1_3 + 37 x_2_0 + 30 x_2_1 + 27 x_2_2\n",
            " + 21 x_2_3\n",
            "Subject To\n",
            "constr(0):  x_1_2 = 0\n",
            "constr(1):  x_0_0 + x_0_1 + x_0_2 + x_0_3 <= 75\n",
            "constr(2):  x_1_0 + x_1_1 + x_1_2 + x_1_3 <= 75\n",
            "constr(3):  x_2_0 + x_2_1 + x_2_2 + x_2_3 <= 45\n",
            "constr(4):  x_0_0 + x_1_0 + x_2_0 >= 20\n",
            "constr(5):  x_0_1 + x_1_1 + x_2_1 >= 30\n",
            "constr(6):  x_0_2 + x_1_2 + x_2_2 >= 30\n",
            "constr(7):  x_0_3 + x_1_3 + x_2_3 >= 40\n",
            "Bounds\n",
            "End\n",
            "\n"
          ]
        }
      ]
    },
    {
      "cell_type": "code",
      "execution_count": 28,
      "metadata": {
        "id": "hHo6N8Pw7Zpf",
        "colab": {
          "base_uri": "https://localhost:8080/"
        },
        "outputId": "48c46830-e5bc-45f0-80a4-68daf81e69e5"
      },
      "outputs": [
        {
          "output_type": "stream",
          "name": "stdout",
          "text": [
            "Status =  OptimizationStatus.OPTIMAL\n",
            "Solution value  = 3260.00\n",
            "\n",
            "Solution:\n",
            "x_0_0 = 0.00\n",
            "x_0_1 = 30.00\n",
            "x_0_2 = 30.00\n",
            "x_0_3 = 0.00\n",
            "x_1_0 = 0.00\n",
            "x_1_1 = 0.00\n",
            "x_1_2 = 0.00\n",
            "x_1_3 = 15.00\n",
            "x_2_0 = 20.00\n",
            "x_2_1 = 0.00\n",
            "x_2_2 = 0.00\n",
            "x_2_3 = 25.00\n"
          ]
        }
      ],
      "source": [
        "solve(model)"
      ]
    },
    {
      "cell_type": "markdown",
      "metadata": {
        "id": "aMs1wHIugRae"
      },
      "source": [
        "## Exercício 2\n",
        "\n",
        "Refaça o modelo anterior, dessa vez impedindo a divisão de produtos entre fábricas. Ou seja, cada produto deve ser integralmente produzido em uma única fábrica, para eliminar custos ocultos associados à divisão da produção. A cada fábrica deve ser destinado pelo menos um produto."
      ]
    },
    {
      "cell_type": "markdown",
      "metadata": {
        "id": "gKJj1JLUgRag"
      },
      "source": [
        "### Resolução"
      ]
    },
    {
      "cell_type": "code",
      "source": [
        "F = [75, 75, 45]\n",
        "P = [20, 30, 30, 40]\n",
        "CS = [[41, 27, 28, 24],[40, 29, 0, 23], [37, 30, 27, 21]]"
      ],
      "metadata": {
        "id": "PXem3oHFkGVm"
      },
      "execution_count": 48,
      "outputs": []
    },
    {
      "cell_type": "code",
      "execution_count": 54,
      "metadata": {
        "id": "92okSArZgRah",
        "colab": {
          "base_uri": "https://localhost:8080/"
        },
        "outputId": "db1e036a-0c35-4f48-a2e0-bab4a87f5727"
      },
      "outputs": [
        {
          "output_type": "stream",
          "name": "stdout",
          "text": [
            "\\Problem name: Destinacao de Produtos a Fabricas Impedindo Que Seja Dividido\n",
            "\n",
            "Minimize\n",
            "OBJROW: 820 x_0_0 + 810 x_0_1 + 840 x_0_2 + 960 x_0_3 + 800 x_1_0 + 870 x_1_1 + 920 x_1_3 + 740 x_2_0 + 900 x_2_1 + 810 x_2_2\n",
            " + 840 x_2_3\n",
            "Subject To\n",
            "constr(0):  x_0_0 + x_0_1 + x_0_2 + x_0_3 >= 1\n",
            "constr(1):  20 x_0_0 + 30 x_0_1 + 30 x_0_2 + 40 x_0_3 <= 75\n",
            "constr(2):  x_1_0 + x_1_1 + x_1_2 + x_1_3 >= 1\n",
            "constr(3):  20 x_1_0 + 30 x_1_1 + 30 x_1_2 + 40 x_1_3 <= 75\n",
            "constr(4):  x_2_0 + x_2_1 + x_2_2 + x_2_3 >= 1\n",
            "constr(5):  20 x_2_0 + 30 x_2_1 + 30 x_2_2 + 40 x_2_3 <= 45\n",
            "constr(6):  20 x_0_0 + 20 x_1_0 + 20 x_2_0 = 20\n",
            "constr(7):  30 x_0_1 + 30 x_1_1 + 30 x_2_1 = 30\n",
            "constr(8):  30 x_0_2 + 30 x_1_2 + 30 x_2_2 = 30\n",
            "constr(9):  40 x_0_3 + 40 x_1_3 + 40 x_2_3 = 40\n",
            "constr(10):  x_1_2 = 0\n",
            "Bounds\n",
            " 0 <= x_0_0 <= 1\n",
            " 0 <= x_0_1 <= 1\n",
            " 0 <= x_0_2 <= 1\n",
            " 0 <= x_0_3 <= 1\n",
            " 0 <= x_1_0 <= 1\n",
            " 0 <= x_1_1 <= 1\n",
            " 0 <= x_1_2 <= 1\n",
            " 0 <= x_1_3 <= 1\n",
            " 0 <= x_2_0 <= 1\n",
            " 0 <= x_2_1 <= 1\n",
            " 0 <= x_2_2 <= 1\n",
            " 0 <= x_2_3 <= 1\n",
            "Integers\n",
            "x_0_0 x_0_1 x_0_2 x_0_3 x_1_0 x_1_1 x_1_2 x_1_3 x_2_0 x_2_1 \n",
            "x_2_2 x_2_3 \n",
            "End\n",
            "\n"
          ]
        }
      ],
      "source": [
        "model = Model(name='Destinacao de Produtos a Fabricas Impedindo Que Seja Dividido', sense=MINIMIZE, solver_name=CBC)\n",
        "\n",
        "x = {i: {j: model.add_var(name = f\"x_{i}_{j}\", var_type=BINARY) for j in range(len(P))} for i in range(len(F))}\n",
        "\n",
        "model.objective += xsum(CS[i][j] * P[j] * x[i][j] for j in range(len(P)) for i in range(len(F)))\n",
        "\n",
        "for i in range(len(F)):\n",
        "  model += xsum(x[i][j] for j in range(len(P)) ) >= 1\n",
        "  model += xsum(P[j]*x[i][j] for j in range(len(P)) ) <= F[i]\n",
        "\n",
        "for j in range(len(P)):\n",
        "  model += xsum(P[j] * x[i][j] for i in range(len(F)) ) == P[j]\n",
        "\n",
        "model += x[1][2] == 0\n",
        "\n",
        "save(model, \"model2.lp\")"
      ]
    },
    {
      "cell_type": "code",
      "execution_count": 55,
      "metadata": {
        "id": "D0hi2a4UgRai",
        "colab": {
          "base_uri": "https://localhost:8080/"
        },
        "outputId": "80971c15-49aa-48c4-ca02-279691bc43fa"
      },
      "outputs": [
        {
          "output_type": "stream",
          "name": "stdout",
          "text": [
            "Status =  OptimizationStatus.OPTIMAL\n",
            "Solution value  = 3290.00\n",
            "\n",
            "Solution:\n",
            "x_0_0 = 0.00\n",
            "x_0_1 = 1.00\n",
            "x_0_2 = 1.00\n",
            "x_0_3 = 0.00\n",
            "x_1_0 = 1.00\n",
            "x_1_1 = 0.00\n",
            "x_1_2 = 0.00\n",
            "x_1_3 = 0.00\n",
            "x_2_0 = 0.00\n",
            "x_2_1 = 0.00\n",
            "x_2_2 = 0.00\n",
            "x_2_3 = 1.00\n"
          ]
        }
      ],
      "source": [
        "solve(model)"
      ]
    }
  ],
  "metadata": {
    "colab": {
      "provenance": [],
      "include_colab_link": true
    },
    "kernelspec": {
      "display_name": "Python 3",
      "name": "python3"
    },
    "language_info": {
      "codemirror_mode": {
        "name": "ipython",
        "version": 3
      },
      "file_extension": ".py",
      "mimetype": "text/x-python",
      "name": "python",
      "nbconvert_exporter": "python",
      "pygments_lexer": "ipython3",
      "version": "3.8.10"
    }
  },
  "nbformat": 4,
  "nbformat_minor": 0
}