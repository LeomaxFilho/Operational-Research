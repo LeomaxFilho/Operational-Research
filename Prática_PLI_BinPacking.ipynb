{
  "nbformat": 4,
  "nbformat_minor": 0,
  "metadata": {
    "colab": {
      "provenance": [],
      "collapsed_sections": [
        "18u4P6_fjHTa"
      ],
      "include_colab_link": true
    },
    "kernelspec": {
      "name": "python3",
      "display_name": "Python 3"
    },
    "language_info": {
      "name": "python"
    }
  },
  "cells": [
    {
      "cell_type": "markdown",
      "metadata": {
        "id": "view-in-github",
        "colab_type": "text"
      },
      "source": [
        "<a href=\"https://colab.research.google.com/github/LeomaxFilho/Operational-Research/blob/main/Pr%C3%A1tica_PLI_BinPacking.ipynb\" target=\"_parent\"><img src=\"https://colab.research.google.com/assets/colab-badge.svg\" alt=\"Open In Colab\"/></a>"
      ]
    },
    {
      "cell_type": "markdown",
      "source": [
        "# Aula prática: Bin Packing\n"
      ],
      "metadata": {
        "id": "KkkfGB7mizn4"
      }
    },
    {
      "cell_type": "markdown",
      "source": [
        "## Exercício 1\n"
      ],
      "metadata": {
        "id": "6Pq0qYFUi66C"
      }
    },
    {
      "cell_type": "markdown",
      "source": [
        "### Descrição do problema\n",
        "Uma faculdade quer agendar as provas de 6 disciplinas. Existe uma regra que proíbe que o mesmo aluno tenha que fazer mais de uma prova por dia. A tabela abaixo mostra quais alunos (identificados por números) vão fazer a prova de cada disciplina. Por exemplo, A e B não podem ser agendadas no mesmo dia por causa do aluno 1. Já B e C poderiam ser agendadas no mesmo dia, pois nenhum aluno vai fazer essas duas provas.\n",
        "\n",
        "| Disciplina | Alunos |\n",
        "|:---:|:---:|\n",
        "| A | 1, 2, 3, 4 |\n",
        "| B | 1, 5 |\n",
        "| C | 3, 6, 7 |\n",
        "| D | 5, 7 |\n",
        "| E | 2, 7 |\n",
        "| F | 4, 5 |\n",
        "\n",
        "Crie um modelo de PLI para agendar essas provas no menor número de dias possível.\n",
        "**Dica: baseie-se no modelo do problema de empacotamento de caixas.**\n"
      ],
      "metadata": {
        "id": "18u4P6_fjHTa"
      }
    },
    {
      "cell_type": "markdown",
      "source": [
        "### Resolução"
      ],
      "metadata": {
        "id": "EW2_LyQlkB9Y"
      }
    },
    {
      "cell_type": "code",
      "execution_count": null,
      "metadata": {
        "id": "UToKjaulioTm"
      },
      "outputs": [],
      "source": [
        "# instalação e importação do pacote mip\n",
        "!pip install mip\n",
        "from mip import *\n",
        "\n",
        "# funcões usadas posteriormente:\n",
        "\n",
        "# resolve o modelo e mostra os valores das variáveis\n",
        "def solve(model):\n",
        "  status = model.optimize()\n",
        "\n",
        "  print(\"Status = \", status)\n",
        "  if status != OptimizationStatus.OPTIMAL:\n",
        "    return\n",
        "\n",
        "  print(f\"Solution value  = {model.objective_value:.2f}\\n\")\n",
        "\n",
        "  print(\"Solution:\")\n",
        "  for v in model.vars:\n",
        "    if v.x > 0.001:\n",
        "      print(f\"{v.name} = {v.x:.2f}\")\n",
        "\n",
        "\n",
        "# salva modelo em arquivo lp, e mostra o conteúdo\n",
        "def save(model, filename):\n",
        "  model.write(filename) # salva modelo em arquivo\n",
        "  with open(filename, \"r\") as f: # lê e exibe conteúdo do arquivo\n",
        "    print(f.read())"
      ]
    },
    {
      "cell_type": "code",
      "source": [
        "model = # implementar modelo\n",
        "\n",
        "save(model, \"model.lp\")"
      ],
      "metadata": {
        "id": "zL3qpuLbkFDK"
      },
      "execution_count": null,
      "outputs": []
    },
    {
      "cell_type": "code",
      "source": [
        "solve(model)"
      ],
      "metadata": {
        "id": "hpkM_kZ1qthr"
      },
      "execution_count": null,
      "outputs": []
    }
  ]
}