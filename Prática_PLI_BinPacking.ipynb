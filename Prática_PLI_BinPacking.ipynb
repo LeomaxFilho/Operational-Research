{
  "nbformat": 4,
  "nbformat_minor": 0,
  "metadata": {
    "colab": {
      "provenance": [],
      "collapsed_sections": [
        "18u4P6_fjHTa"
      ],
      "include_colab_link": true
    },
    "kernelspec": {
      "name": "python3",
      "display_name": "Python 3"
    },
    "language_info": {
      "name": "python"
    }
  },
  "cells": [
    {
      "cell_type": "markdown",
      "metadata": {
        "id": "view-in-github",
        "colab_type": "text"
      },
      "source": [
        "<a href=\"https://colab.research.google.com/github/LeomaxFilho/Operational-Research/blob/main/Pr%C3%A1tica_PLI_BinPacking.ipynb\" target=\"_parent\"><img src=\"https://colab.research.google.com/assets/colab-badge.svg\" alt=\"Open In Colab\"/></a>"
      ]
    },
    {
      "cell_type": "markdown",
      "source": [
        "# Aula prática: Bin Packing\n"
      ],
      "metadata": {
        "id": "KkkfGB7mizn4"
      }
    },
    {
      "cell_type": "markdown",
      "source": [
        "## Exercício 1\n"
      ],
      "metadata": {
        "id": "6Pq0qYFUi66C"
      }
    },
    {
      "cell_type": "markdown",
      "source": [
        "### Descrição do problema\n",
        "Uma faculdade quer agendar as provas de 6 disciplinas. Existe uma regra que proíbe que o mesmo aluno tenha que fazer mais de uma prova por dia. A tabela abaixo mostra quais alunos (identificados por números) vão fazer a prova de cada disciplina. Por exemplo, A e B não podem ser agendadas no mesmo dia por causa do aluno 1. Já B e C poderiam ser agendadas no mesmo dia, pois nenhum aluno vai fazer essas duas provas.\n",
        "\n",
        "| Disciplina | Alunos |\n",
        "|:---:|:---:|\n",
        "| A | 1, 2, 3, 4 |\n",
        "| B | 1, 5 |\n",
        "| C | 3, 6, 7 |\n",
        "| D | 5, 7 |\n",
        "| E | 2, 7 |\n",
        "| F | 4, 5 |\n",
        "\n",
        "Crie um modelo de PLI para agendar essas provas no menor número de dias possível.\n",
        "**Dica: baseie-se no modelo do problema de empacotamento de caixas.**\n"
      ],
      "metadata": {
        "id": "18u4P6_fjHTa"
      }
    },
    {
      "cell_type": "markdown",
      "source": [
        "### Resolução"
      ],
      "metadata": {
        "id": "EW2_LyQlkB9Y"
      }
    },
    {
      "cell_type": "code",
      "execution_count": 2,
      "metadata": {
        "id": "UToKjaulioTm",
        "colab": {
          "base_uri": "https://localhost:8080/"
        },
        "outputId": "b5c5e151-cc4d-421e-c981-11172fa67a08"
      },
      "outputs": [
        {
          "output_type": "stream",
          "name": "stdout",
          "text": [
            "Requirement already satisfied: mip in /usr/local/lib/python3.11/dist-packages (1.15.0)\n",
            "Requirement already satisfied: cffi==1.15.* in /usr/local/lib/python3.11/dist-packages (from mip) (1.15.1)\n",
            "Requirement already satisfied: pycparser in /usr/local/lib/python3.11/dist-packages (from cffi==1.15.*->mip) (2.22)\n"
          ]
        }
      ],
      "source": [
        "# instalação e importação do pacote mip\n",
        "!pip install mip\n",
        "from mip import *\n",
        "\n",
        "# funcões usadas posteriormente:\n",
        "\n",
        "# resolve o modelo e mostra os valores das variáveis\n",
        "def solve(model):\n",
        "  status = model.optimize()\n",
        "\n",
        "  print(\"Status = \", status)\n",
        "  if status != OptimizationStatus.OPTIMAL:\n",
        "    return\n",
        "\n",
        "  print(f\"Solution value  = {model.objective_value:.2f}\\n\")\n",
        "\n",
        "  print(\"Solution:\")\n",
        "  for v in model.vars:\n",
        "    if v.x > 0.001:\n",
        "      print(f\"{v.name} = {v.x:.2f}\")\n",
        "\n",
        "\n",
        "# salva modelo em arquivo lp, e mostra o conteúdo\n",
        "def save(model, filename):\n",
        "  model.write(filename) # salva modelo em arquivo\n",
        "  with open(filename, \"r\") as f: # lê e exibe conteúdo do arquivo\n",
        "    print(f.read())"
      ]
    },
    {
      "cell_type": "code",
      "source": [
        "T = {\n",
        "    'A' : [1, 2, 3, 4],\n",
        "    'B' : [1, 5],\n",
        "    'C' : [3, 6, 7],\n",
        "    'D' : [5, 7],\n",
        "    'E' : [2, 7],\n",
        "    'F' : [4, 5]\n",
        "    }\n",
        "\n",
        "A = {}\n",
        "\n",
        "for i, D in T.items():\n",
        "  for j in D:\n",
        "    if j not in A:\n",
        "      A[j] = []\n",
        "    A[j].append(i)\n",
        "\n",
        "print(A)"
      ],
      "metadata": {
        "id": "97RSLSTETNCO",
        "outputId": "5c55213e-042b-43a1-bcf9-e3a0ce8e9b29",
        "colab": {
          "base_uri": "https://localhost:8080/"
        }
      },
      "execution_count": 74,
      "outputs": [
        {
          "output_type": "stream",
          "name": "stdout",
          "text": [
            "{1: ['A', 'B'], 2: ['A', 'E'], 3: ['A', 'C'], 4: ['A', 'F'], 5: ['B', 'D', 'F'], 6: ['C'], 7: ['C', 'D', 'E']}\n"
          ]
        }
      ]
    },
    {
      "cell_type": "code",
      "source": [
        "def repeats(T : dict, studant : int, day) -> bool:\n",
        "  for i in range(day):\n",
        "    if studant in T[i]:\n",
        "      return False"
      ],
      "metadata": {
        "id": "zKo-7TRxY04I"
      },
      "execution_count": 75,
      "outputs": []
    },
    {
      "cell_type": "code",
      "source": [
        "model = Model(name='Bin Packing Faculdade', sense=MINIMIZE, solver_name=CBC)\n",
        "x = [model.add_var(name=f'x_{i}', var_type=BINARY) for i in range(len(T))]\n",
        "\n",
        "y = {i: [model.add_var(name=f\"y_{i}_{j}\", var_type=BINARY) for j in range(len(T))] for i in T.keys()}\n",
        "\n",
        "model.objective = xsum(x[i] for i in range(len(T)))\n",
        "\n",
        "for j in T.keys():\n",
        "  model += 1 == xsum(y[j][i] for i in range(len(T)))\n",
        "\n",
        "for i in A.keys():\n",
        "  for j in range(len(T)):\n",
        "    model += x[j] >= xsum(y[z][j]  for z in A[i])\n",
        "\n",
        "save(model, \"model.lp\")"
      ],
      "metadata": {
        "id": "zL3qpuLbkFDK",
        "colab": {
          "base_uri": "https://localhost:8080/"
        },
        "outputId": "58377129-e8ad-47c6-b710-422e59ab0132"
      },
      "execution_count": 119,
      "outputs": [
        {
          "output_type": "stream",
          "name": "stdout",
          "text": [
            "\\Problem name: Bin Packing Faculdade\n",
            "\n",
            "Minimize\n",
            "OBJROW: x_0 + x_1 + x_2 + x_3 + x_4 + x_5\n",
            "Subject To\n",
            "constr(0):  y_A_0 + y_A_1 + y_A_2 + y_A_3 + y_A_4 + y_A_5 = 1\n",
            "constr(1):  y_B_0 + y_B_1 + y_B_2 + y_B_3 + y_B_4 + y_B_5 = 1\n",
            "constr(2):  y_C_0 + y_C_1 + y_C_2 + y_C_3 + y_C_4 + y_C_5 = 1\n",
            "constr(3):  y_D_0 + y_D_1 + y_D_2 + y_D_3 + y_D_4 + y_D_5 = 1\n",
            "constr(4):  y_E_0 + y_E_1 + y_E_2 + y_E_3 + y_E_4 + y_E_5 = 1\n",
            "constr(5):  y_F_0 + y_F_1 + y_F_2 + y_F_3 + y_F_4 + y_F_5 = 1\n",
            "constr(6):  x_0 - y_A_0 - y_B_0 >= -0\n",
            "constr(7):  x_1 - y_A_1 - y_B_1 >= -0\n",
            "constr(8):  x_2 - y_A_2 - y_B_2 >= -0\n",
            "constr(9):  x_3 - y_A_3 - y_B_3 >= -0\n",
            "constr(10):  x_4 - y_A_4 - y_B_4 >= -0\n",
            "constr(11):  x_5 - y_A_5 - y_B_5 >= -0\n",
            "constr(12):  x_0 - y_A_0 - y_E_0 >= -0\n",
            "constr(13):  x_1 - y_A_1 - y_E_1 >= -0\n",
            "constr(14):  x_2 - y_A_2 - y_E_2 >= -0\n",
            "constr(15):  x_3 - y_A_3 - y_E_3 >= -0\n",
            "constr(16):  x_4 - y_A_4 - y_E_4 >= -0\n",
            "constr(17):  x_5 - y_A_5 - y_E_5 >= -0\n",
            "constr(18):  x_0 - y_A_0 - y_C_0 >= -0\n",
            "constr(19):  x_1 - y_A_1 - y_C_1 >= -0\n",
            "constr(20):  x_2 - y_A_2 - y_C_2 >= -0\n",
            "constr(21):  x_3 - y_A_3 - y_C_3 >= -0\n",
            "constr(22):  x_4 - y_A_4 - y_C_4 >= -0\n",
            "constr(23):  x_5 - y_A_5 - y_C_5 >= -0\n",
            "constr(24):  x_0 - y_A_0 - y_F_0 >= -0\n",
            "constr(25):  x_1 - y_A_1 - y_F_1 >= -0\n",
            "constr(26):  x_2 - y_A_2 - y_F_2 >= -0\n",
            "constr(27):  x_3 - y_A_3 - y_F_3 >= -0\n",
            "constr(28):  x_4 - y_A_4 - y_F_4 >= -0\n",
            "constr(29):  x_5 - y_A_5 - y_F_5 >= -0\n",
            "constr(30):  x_0 - y_B_0 - y_D_0 - y_F_0 >= -0\n",
            "constr(31):  x_1 - y_B_1 - y_D_1 - y_F_1 >= -0\n",
            "constr(32):  x_2 - y_B_2 - y_D_2 - y_F_2 >= -0\n",
            "constr(33):  x_3 - y_B_3 - y_D_3 - y_F_3 >= -0\n",
            "constr(34):  x_4 - y_B_4 - y_D_4 - y_F_4 >= -0\n",
            "constr(35):  x_5 - y_B_5 - y_D_5 - y_F_5 >= -0\n",
            "constr(36):  x_0 - y_C_0 >= -0\n",
            "constr(37):  x_1 - y_C_1 >= -0\n",
            "constr(38):  x_2 - y_C_2 >= -0\n",
            "constr(39):  x_3 - y_C_3 >= -0\n",
            "constr(40):  x_4 - y_C_4 >= -0\n",
            "constr(41):  x_5 - y_C_5 >= -0\n",
            "constr(42):  x_0 - y_C_0 - y_D_0 - y_E_0 >= -0\n",
            "constr(43):  x_1 - y_C_1 - y_D_1 - y_E_1 >= -0\n",
            "constr(44):  x_2 - y_C_2 - y_D_2 - y_E_2 >= -0\n",
            "constr(45):  x_3 - y_C_3 - y_D_3 - y_E_3 >= -0\n",
            "constr(46):  x_4 - y_C_4 - y_D_4 - y_E_4 >= -0\n",
            "constr(47):  x_5 - y_C_5 - y_D_5 - y_E_5 >= -0\n",
            "Bounds\n",
            " 0 <= x_0 <= 1\n",
            " 0 <= x_1 <= 1\n",
            " 0 <= x_2 <= 1\n",
            " 0 <= x_3 <= 1\n",
            " 0 <= x_4 <= 1\n",
            " 0 <= x_5 <= 1\n",
            " 0 <= y_A_0 <= 1\n",
            " 0 <= y_A_1 <= 1\n",
            " 0 <= y_A_2 <= 1\n",
            " 0 <= y_A_3 <= 1\n",
            " 0 <= y_A_4 <= 1\n",
            " 0 <= y_A_5 <= 1\n",
            " 0 <= y_B_0 <= 1\n",
            " 0 <= y_B_1 <= 1\n",
            " 0 <= y_B_2 <= 1\n",
            " 0 <= y_B_3 <= 1\n",
            " 0 <= y_B_4 <= 1\n",
            " 0 <= y_B_5 <= 1\n",
            " 0 <= y_C_0 <= 1\n",
            " 0 <= y_C_1 <= 1\n",
            " 0 <= y_C_2 <= 1\n",
            " 0 <= y_C_3 <= 1\n",
            " 0 <= y_C_4 <= 1\n",
            " 0 <= y_C_5 <= 1\n",
            " 0 <= y_D_0 <= 1\n",
            " 0 <= y_D_1 <= 1\n",
            " 0 <= y_D_2 <= 1\n",
            " 0 <= y_D_3 <= 1\n",
            " 0 <= y_D_4 <= 1\n",
            " 0 <= y_D_5 <= 1\n",
            " 0 <= y_E_0 <= 1\n",
            " 0 <= y_E_1 <= 1\n",
            " 0 <= y_E_2 <= 1\n",
            " 0 <= y_E_3 <= 1\n",
            " 0 <= y_E_4 <= 1\n",
            " 0 <= y_E_5 <= 1\n",
            " 0 <= y_F_0 <= 1\n",
            " 0 <= y_F_1 <= 1\n",
            " 0 <= y_F_2 <= 1\n",
            " 0 <= y_F_3 <= 1\n",
            " 0 <= y_F_4 <= 1\n",
            " 0 <= y_F_5 <= 1\n",
            "Integers\n",
            "x_0 x_1 x_2 x_3 x_4 x_5 y_A_0 y_A_1 y_A_2 y_A_3 \n",
            "y_A_4 y_A_5 y_B_0 y_B_1 y_B_2 y_B_3 y_B_4 y_B_5 y_C_0 y_C_1 \n",
            "y_C_2 y_C_3 y_C_4 y_C_5 y_D_0 y_D_1 y_D_2 y_D_3 y_D_4 y_D_5 \n",
            "y_E_0 y_E_1 y_E_2 y_E_3 y_E_4 y_E_5 y_F_0 y_F_1 y_F_2 y_F_3 \n",
            "y_F_4 y_F_5 \n",
            "End\n",
            "\n"
          ]
        }
      ]
    },
    {
      "cell_type": "code",
      "source": [
        "solve(model)"
      ],
      "metadata": {
        "id": "hpkM_kZ1qthr",
        "colab": {
          "base_uri": "https://localhost:8080/"
        },
        "outputId": "50eb8e77-3eae-44d6-9a27-1b125a4f37e8"
      },
      "execution_count": 120,
      "outputs": [
        {
          "output_type": "stream",
          "name": "stdout",
          "text": [
            "Status =  OptimizationStatus.OPTIMAL\n",
            "Solution value  = 3.00\n",
            "\n",
            "Solution:\n",
            "x_0 = 1.00\n",
            "x_3 = 1.00\n",
            "x_4 = 1.00\n",
            "y_A_3 = 1.00\n",
            "y_B_4 = 1.00\n",
            "y_C_4 = 1.00\n",
            "y_D_3 = 1.00\n",
            "y_E_0 = 1.00\n",
            "y_F_0 = 1.00\n"
          ]
        }
      ]
    }
  ]
}